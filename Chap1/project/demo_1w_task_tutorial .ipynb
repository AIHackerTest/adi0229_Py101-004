{
 "cells": [
  {
   "cell_type": "markdown",
   "metadata": {},
   "source": [
    "# 任务说明\n",
    "\n",
    "\n",
    "请在 2wd1 170821 11:42 前，完成一个最简天气查询程序，运行在命令行界面，实现以下功能：\n",
    "\n",
    "- 输入城市名，返回该城市的天气数据；\n",
    "- 输入指令，打印帮助文档（一般使用 h 或 help）；\n",
    "- 输入指令，退出程序的交互（一般使用 quit 或 exit）；\n",
    "- 在退出程序之前，打印查询过的所有城市。\n",
    "- 所用天气数据见 https://github.com/AIHackers/Py101-004/tree/master/Chap1/resource 中 weather_info.txt 文件。\n",
    "\n",
    "Ps. 不要忘了编写个人教程，梳理相关技能点。"
   ]
  },
  {
   "cell_type": "markdown",
   "metadata": {},
   "source": [
    "# 做题思路\n",
    "\n",
    "1. 读取天气的 txt 文件（打印，确认读取正确）\n",
    "2. 每一行内容，储存为字典数据，通过key和 value 的对应，方便查询\n",
    "3. 获取用户input\n",
    "4. 区分input（城市、帮助文档、退出）\n",
    "5. 根据不同 input，返回不同 output（城市的天气、帮助文档、退出程序） \n",
    "6. 异常状况预备"
   ]
  },
  {
   "cell_type": "code",
   "execution_count": null,
   "metadata": {},
   "outputs": [],
   "source": [
    "with open(\"/Users/apple/ompy/Chap1/resource/weather_info.txt\", 'r') as f: \n",
    "    \n",
    "    # with open 语句，不用再输入 f.close()\n",
    "    \n",
    "    # 没看官方 document，鬼使神差，下意识地输入执行了‘w’参数，结果把 txt 内容抹掉了 \n",
    "    \n",
    "    content = f.readlines()\n",
    "    \n",
    "    print(content[0])\n",
    "    print(content[1])\n",
    "    print(content[2:5])\n",
    "    \n",
    "    count = 0 # 全部打印太多内容了，加一个 count\n",
    "    \n",
    "    for line in content:\n",
    "        \n",
    "        count += 1\n",
    "        \n",
    "        print(line)\n",
    "        \n",
    "        if count == 3: # 只打印前三行\n",
    "            break\n",
    "        "
   ]
  },
  {
   "cell_type": "code",
   "execution_count": 32,
   "metadata": {},
   "outputs": [
    {
     "name": "stdout",
     "output_type": "stream",
     "text": [
      "晴\n"
     ]
    }
   ],
   "source": [
    "with open(\"/Users/apple/ompy/Chap1/resource/weather_info.txt\", 'r') as f:\n",
    "\n",
    "    content = f.readlines()\n",
    "\n",
    "    weather_info = {} # 赋值变量 weather_info为一个空字典\n",
    "\n",
    "\n",
    "    for line in content:\n",
    "\n",
    "        line = line.strip('\\n').split(',') \n",
    "        \n",
    "        # 打印发现每一行有一个\"\\n\",用 strip（）去掉\n",
    "        # 观察发现，每一行都是“城市,天气”格式，用 split(',') 把每一行分成 2个 str\n",
    "\n",
    "        weather_info[line[0]]= line[1].strip(\"''\") \n",
    "        \n",
    "        #调试打印发现，返回的字符串含有''，需要去掉\n",
    "     \n",
    "\n",
    "print(weather_info['北京']) \n",
    "\n",
    "def find_weather():\n",
    "\n",
    "    x = input(\"请输入城市名称\")\n",
    "    \n",
    "    print(weather_info[x] )\n",
    "\n"
   ]
  },
  {
   "cell_type": "code",
   "execution_count": null,
   "metadata": {},
   "outputs": [],
   "source": [
    "with open(\"/Users/apple/ompy/Chap1/resource/weather_info.txt\", 'r') as f:\n",
    "    content = f.readlines()\n",
    "\n",
    "    weather_info = {}  # 赋值变量 weather_info为一个空字典\n",
    "\n",
    "    for line in content:\n",
    "        line = line.strip('\\n').split(',')\n",
    "\n",
    "        # 打印发现每一行有一个\"\\n\",用 strip（）去掉\n",
    "        # 观察发现，每一行都是“城市,天气”格式，用 split(',') 把每一行分成 2个 str\n",
    "\n",
    "        weather_info[line[0]] = line[1].strip(\"''\")\n",
    "\n",
    "        # 调试打印发现，返回的字符串含有''，需要去掉\n",
    "\n",
    "\n",
    "def find_weather():\n",
    "\n",
    "    x = input(\"请输入城市名称或者命令>>>\")\n",
    "    \n",
    "    history = \"\"\" \"\"\"\n",
    "\n",
    "    if x == 'quit':\n",
    "\n",
    "        return print(\"退出成功！\")\n",
    "\n",
    "    if x== 'help':\n",
    "        print(\"\"\"- 输入城市名，返回该城市的天气数据；\n",
    "- 输入指令，打印帮助文档（一般使用 h 或 help）；\n",
    "- 输入指令，退出程序的交互（一般使用 quit 或 exit）；\n",
    "- 在退出程序之前，打印查询过的所有城市。\n",
    "       \"\"\")\n",
    "        return find_weather()\n",
    "\n",
    "    else:\n",
    "\n",
    "        print(\"{0}的天气状况为：weather_info[x])\".format(x))\n",
    "       \n",
    "\n",
    "        return find_weather()\n",
    "\n",
    "\n",
    "find_weather()"
   ]
  },
  {
   "cell_type": "code",
   "execution_count": null,
   "metadata": {
    "collapsed": true
   },
   "outputs": [],
   "source": []
  }
 ],
 "metadata": {
  "kernelspec": {
   "display_name": "Python 3",
   "language": "python",
   "name": "python3"
  },
  "language_info": {
   "codemirror_mode": {
    "name": "ipython",
    "version": 3
   },
   "file_extension": ".py",
   "mimetype": "text/x-python",
   "name": "python",
   "nbconvert_exporter": "python",
   "pygments_lexer": "ipython3",
   "version": "3.6.1"
  }
 },
 "nbformat": 4,
 "nbformat_minor": 2
}
