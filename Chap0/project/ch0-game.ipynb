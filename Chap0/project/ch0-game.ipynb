{
 "cells": [
  {
   "cell_type": "markdown",
   "metadata": {},
   "source": [
    "# Number Guessing Game"
   ]
  },
  {
   "cell_type": "markdown",
   "metadata": {
    "collapsed": true
   },
   "source": [
    "## 游戏玩法：\n",
    "\n",
    "1.在终端运行py文件\n",
    "\n",
    "2.根据字符的提示，输入相应的数字进行猜测（数字应该为0-20之间的整数）\n",
    "\n",
    "3.输入数字后，如果猜对，会返回“Bingo！”\n",
    "\n",
    "4.若猜不对，游戏会告诉你，你猜大了，还是猜小了\n",
    "\n",
    "5.一共有10次猜测机会.\n"
   ]
  },
  {
   "cell_type": "markdown",
   "metadata": {},
   "source": [
    "题目内容：\n",
    "\n",
    "- 程序随机生成一个 20 以内的数字：查找随机生成数字的函数\n",
    "- 用户有 10 次机会猜测：限制条件，最多输入10次\n",
    "- 程序根据用户输入：input函数\n",
    "- 给予一定提示（大了、小了、正确）： 判断并打印\n",
    "- 猜对或用完 10 次机会，游戏结束 ： 条件判断"
   ]
  },
  {
   "cell_type": "code",
   "execution_count": null,
   "metadata": {
    "collapsed": true
   },
   "outputs": [],
   "source": [
    "import random\n",
    "\n",
    "def user_input():\n",
    "    try:\n",
    "        n = int(input(\"Enter an integer between 0-20.\"))\n",
    "    except ValueError:\n",
    "        print(\"Give me a integer!\")\n",
    "        return user_input()\n",
    "    else:\n",
    "        if 0 > n or n > 20:\n",
    "            print(\"Not in the range!\")\n",
    "            return user_input()\n",
    "    return n\n",
    "\n",
    "num = random.randint(0, 20)\n",
    "\n",
    "count = 0\n",
    "\n",
    "while count < 10:\n",
    "\n",
    "    guess = user_input()\n",
    "\n",
    "    chance = 9 - count\n",
    "\n",
    "    count += 1\n",
    "\n",
    "    if guess == num:\n",
    "        print(\"Bingo!!!!!!\")\n",
    "        break\n",
    "    elif guess > num:\n",
    "\n",
    "        print(\"Your number is bigger .\\nYou have %s chance.\" % chance)\n",
    "\n",
    "    elif guess < num:\n",
    "        print(\"Your number is smaller .\\nYou have %s chance.\" % chance)\n",
    "\n",
    "else:\n",
    "    print(\"Game over.\")\n",
    "\n",
    "\n"
   ]
  },
  {
   "cell_type": "code",
   "execution_count": null,
   "metadata": {
    "collapsed": true
   },
   "outputs": [],
   "source": []
  },
  {
   "cell_type": "code",
   "execution_count": null,
   "metadata": {
    "collapsed": true
   },
   "outputs": [],
   "source": []
  }
 ],
 "metadata": {
  "kernelspec": {
   "display_name": "Python 3",
   "language": "python",
   "name": "python3"
  },
  "language_info": {
   "codemirror_mode": {
    "name": "ipython",
    "version": 3
   },
   "file_extension": ".py",
   "mimetype": "text/x-python",
   "name": "python",
   "nbconvert_exporter": "python",
   "pygments_lexer": "ipython3",
   "version": "3.6.1"
  }
 },
 "nbformat": 4,
 "nbformat_minor": 2
}
