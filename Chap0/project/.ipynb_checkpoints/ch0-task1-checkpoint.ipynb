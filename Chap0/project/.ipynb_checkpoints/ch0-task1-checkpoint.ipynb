{
 "cells": [
  {
   "cell_type": "markdown",
   "metadata": {},
   "source": [
    "# 1.ex10 \n",
    "##  python3.x syntax：1:print()"
   ]
  },
  {
   "cell_type": "code",
   "execution_count": 1,
   "metadata": {},
   "outputs": [
    {
     "name": "stdout",
     "output_type": "stream",
     "text": [
      "\tI'm tabbed in.\n",
      "I'm split\n",
      "on a line.\n",
      "I'm \\ a \\ cat.\n",
      "\n",
      "I'll do a list:\n",
      "\t* Cat food\n",
      "\t* Fishies\n",
      "\t* Catnip\n",
      "\t* Grass\n",
      "\n"
     ]
    }
   ],
   "source": [
    "tabby_cat = \"\\tI'm tabbed in.\"\n",
    "persian_cat = \"I'm split\\non a line.\"\n",
    "backslash_cat = \"I'm \\\\ a \\\\ cat.\"\n",
    "\n",
    "fat_cat = \"\"\"\n",
    "I'll do a list:\n",
    "\\t* Cat food\n",
    "\\t* Fishies\n",
    "\\t* Catnip\\n\\t* Grass\n",
    "\"\"\"\n",
    "\n",
    "print (tabby_cat)\n",
    "print (persian_cat)\n",
    "print (backslash_cat)\n",
    "print (fat_cat)"
   ]
  },
  {
   "cell_type": "markdown",
   "metadata": {},
   "source": [
    "# 2.ex11 \n",
    "##  python3.x syntax：1: print() 2:input()"
   ]
  },
  {
   "cell_type": "code",
   "execution_count": 3,
   "metadata": {},
   "outputs": [
    {
     "name": "stdout",
     "output_type": "stream",
     "text": [
      "How are you?PS:year\n",
      "1\n",
      "How tall are you?PS:cm\n",
      "2\n",
      "How much do you weight?PS:kg\n",
      "3\n",
      "So,you're '1'years old , '2'cm tall and '3'kg heavy.\n",
      "What is your name? 4\n",
      "How old are you?3\n",
      "what sport do you like? 1\n",
      "Hello, 4.\n",
      "you are 3 years old.\n",
      "You can play 1 pretty well.\n"
     ]
    }
   ],
   "source": [
    "print (\"How are you?PS:year\")\n",
    "age = input()\n",
    "print (\"How tall are you?PS:cm\")\n",
    "height = input()\n",
    "print (\"How much do you weight?PS:kg\")\n",
    "weight = input()\n",
    "\n",
    "print (\"So,you're %ryears old , %rcm tall and %rkg heavy.\" % (\n",
    "     age,height,weight))\n",
    "\n",
    "# Example:\n",
    "\n",
    "\n",
    "name = input(\"What is your name? \")\n",
    "xage = int(input(\"How old are you?\"))\n",
    "sport = input(\"what sport do you like? \")\n",
    "\n",
    "print (\"Hello, %s.\" % name,)\n",
    "print (\"you are %s years old.\" % xage,)\n",
    "print (\"You can play %s pretty well.\" % sport,)\n"
   ]
  },
  {
   "cell_type": "markdown",
   "metadata": {},
   "source": [
    "# 3.ex31 \n",
    "##  python3.x syntax：1:str.format()  2: print() 3:input()"
   ]
  },
  {
   "cell_type": "code",
   "execution_count": 4,
   "metadata": {},
   "outputs": [
    {
     "name": "stdout",
     "output_type": "stream",
     "text": [
      "You enter a dark room with two doors.Do you go through door 1\n",
      "      or door 2 or door 3 \n",
      "> \n",
      "You stumble around and fall on a knife and die. Game over, brave\n",
      "     Windrider knight!!!Bye!\n"
     ]
    }
   ],
   "source": [
    "print(\"\"\"You enter a dark room with two doors.Do you go through door 1\n",
    "      or door 2 or door 3 \"\"\")\n",
    "\n",
    "door = input(\"> \")\n",
    "\n",
    "if door == \"1\":\n",
    "   print(\"There's a giant bear here eating a cheese cake.  What do you do ?\")\n",
    "   print(\"1. Take the cake.\")\n",
    "   print(\"2. Scream at the bear.\")\n",
    "\n",
    "   bear = input(\"> \")\n",
    "\n",
    "   if bear == \"1\":\n",
    "       print(\"The bear eats your face off. Good job!!\")\n",
    "   elif bear == \"2\":\n",
    "       print(\"The bear eats your legs off. Wonderful choice!!!\")\n",
    "   else:\n",
    "       print(\"Well, doing {} is probably better.Bear runs away in fear.\".format(bear))\n",
    "\n",
    "elif door == \"2\":\n",
    "    print(\"You stare into the darkness abyss at Cthulhu's retina.\")\n",
    "    print(\"1.Blueberies.\")\n",
    "    print(\"2.Yellow jacket clothespins.\")\n",
    "    print(\"3.Understanding revolvers yelling melodies.\")\n",
    "\n",
    "    insanity  = input(\"> \")\n",
    "\n",
    "    if insanity == \"1\" or insanity == \"2\":\n",
    "        print(\"Your body survives powered by a mind of jello. Bravo,dude!!!!\")\n",
    "    else:\n",
    "        print(\"\"\"The insanity rots your eyes into a pool of muck. Just strike\n",
    "         it thunder flash!\"\"\")\n",
    "elif door == \"3\":\n",
    "    print(\"You damn fool, this is a trap, game over.\")\n",
    "\n",
    "# nested if/elif/else\n",
    "\n",
    "else:\n",
    "    print(\"\"\"You stumble around and fall on a knife and die. Game over, brave\n",
    "     Windrider knight!!!Bye!\"\"\")\n",
    "\n",
    "\n",
    "\n"
   ]
  },
  {
   "cell_type": "markdown",
   "metadata": {},
   "source": [
    "# 4.ex33 \n",
    "##  python3.x syntax：1: print() 3:input()"
   ]
  },
  {
   "cell_type": "code",
   "execution_count": 5,
   "metadata": {},
   "outputs": [
    {
     "name": "stdout",
     "output_type": "stream",
     "text": [
      "At the top i is 0\n",
      "Numbers now:  [0]\n",
      "At the bottom i is 1\n",
      "At the top i is 1\n",
      "Numbers now:  [0, 1]\n",
      "At the bottom i is 2\n",
      "At the top i is 2\n",
      "Numbers now:  [0, 1, 2]\n",
      "At the bottom i is 3\n",
      "At the top i is 3\n",
      "Numbers now:  [0, 1, 2, 3]\n",
      "At the bottom i is 4\n",
      "At the top i is 4\n",
      "Numbers now:  [0, 1, 2, 3, 4]\n",
      "At the bottom i is 5\n",
      "At the top i is 5\n",
      "Numbers now:  [0, 1, 2, 3, 4, 5]\n",
      "At the bottom i is 6\n",
      "The numbers: \n",
      "0\n",
      "1\n",
      "2\n",
      "3\n",
      "4\n",
      "5\n"
     ]
    }
   ],
   "source": [
    "def aloop(x,y):\n",
    "    i = 0\n",
    "    numbers = []\n",
    "    while i < x:\n",
    "        print(\"At the top i is %d\" % i)\n",
    "        numbers.append(i)\n",
    "\n",
    "        i += y\n",
    "\n",
    "        print(\"Numbers now: \", numbers)\n",
    "        print(\"At the bottom i is %d\" % i)\n",
    "\n",
    "\n",
    "    print(\"The numbers: \")\n",
    "\n",
    "    for num in numbers:\n",
    "        print(num)\n",
    "\n",
    "aloop(6,1)\n"
   ]
  },
  {
   "cell_type": "markdown",
   "metadata": {},
   "source": [
    "# 5.ex38 \n",
    "###  python3.x syntax：1:str.format()  2: print() 3:中文支持"
   ]
  },
  {
   "cell_type": "code",
   "execution_count": 6,
   "metadata": {},
   "outputs": [
    {
     "name": "stdout",
     "output_type": "stream",
     "text": [
      "Wait there are not 10 things in that list. Let's fix that.\n",
      "Adding: Boy\n",
      "There are 7 item now.\n",
      "Adding: Girl\n",
      "There are 8 item now.\n",
      "Adding: Girl\n",
      "There are 9 item now.\n",
      "Adding: Banana\n",
      "There are 10 item now.\n",
      "There we go: ['Apples', 'Oranges', 'Crows', 'Telephone', 'Light', 'Sugar', 'Boy', 'Girl', 'Girl', 'Banana']\n",
      "Let's do some thing with stuff.\n",
      "Crows\n",
      "['Telephone', 'Light', 'Sugar', 'Boy', 'Girl', 'Girl', 'Banana']\n",
      "Girl\n",
      "Banana\n",
      "Apples 加上 Oranges 加上 Crows 加上 Telephone 加上 Light 加上 Sugar 加上 Boy 加上 Girl 加上 Girl\n",
      "Orangesﾟ|Д|ﾟCrowsﾟ|Д|ﾟTelephoneﾟ|Д|ﾟLightﾟ|Д|ﾟSugarﾟ|Д|ﾟBoyﾟ|Д|ﾟGirlﾟ|Д|ﾟGirl\n"
     ]
    }
   ],
   "source": [
    "\n",
    "\n",
    "ten_things = \"Apples Oranges Crows Telephone Light Sugar\"\n",
    "\n",
    "print(\"Wait there are not 10 things in that list. Let's fix that.\")\n",
    "\n",
    "stuff = ten_things.split(\" \")\n",
    "\n",
    "\n",
    "more_stuff = [\"Day\", \"Night\", \"Song\", \"Frisbee\", \"Corn\", \"Banana\",\"Girl\",\n",
    "              \"Girl\", \"Boy\"]\n",
    "\n",
    "while len(stuff) != 10:\n",
    "\n",
    "    next_one = more_stuff.pop()\n",
    "\n",
    "    \n",
    "\n",
    "    print(\"Adding:\", next_one)\n",
    "    stuff.append(next_one)\n",
    "    print(\"There are {} item now.\".format(len(stuff)))\n",
    "\n",
    "\n",
    "print( \"There we go:\", stuff)\n",
    "\n",
    "print(\"Let's do some thing with stuff.\")\n",
    "\n",
    "\n",
    "print(stuff[2])\n",
    "print(stuff[3:])\n",
    "print(stuff[-3]) # whoa! fancy\n",
    "print(stuff.pop())\n",
    "print(\" 加上 \".join(stuff)) # what? cool! 中文支持\n",
    "print('ﾟ|Д|ﾟ'.join(stuff[1:10])) # super stellar\n"
   ]
  },
  {
   "cell_type": "markdown",
   "metadata": {},
   "source": [
    "# 6.ex39 \n",
    "###  python3.x syntax：：1: print() "
   ]
  },
  {
   "cell_type": "code",
   "execution_count": 7,
   "metadata": {},
   "outputs": [
    {
     "name": "stdout",
     "output_type": "stream",
     "text": [
      "----------\n",
      "NY State has: New York\n",
      "OR State has: Portland\n",
      "----------\n",
      "Michigan's abbreviation is:  MI\n",
      "Florida's abbreviation is:  FL\n",
      "----------\n",
      "Michigan has:  Detroit\n",
      "Florida has: Jacksonville\n",
      "----------\n",
      "Oregon is abbreviation OR\n",
      "Florida is abbreviation FL\n",
      "California is abbreviation CA\n",
      "New York is abbreviation NY\n",
      "Michigan is abbreviation MI\n",
      "----------\n",
      "CA has the city San Franciso\n",
      "MI has the city Detroit\n",
      "FL has the city Jacksonville\n",
      "NY has the city New York\n",
      "OR has the city Portland\n",
      "----------\n",
      "Oregon state is abbreviated OR and has city Portland\n",
      "Florida state is abbreviated FL and has city Jacksonville\n",
      "California state is abbreviated CA and has city San Franciso\n",
      "New York state is abbreviated NY and has city New York\n",
      "Michigan state is abbreviated MI and has city Detroit\n",
      "----------\n",
      "Sorry, no Texas.\n",
      "The city for the state 'Tx' is: Does Not Exist\n"
     ]
    }
   ],
   "source": [
    "\n",
    "# 字典是用来做映射或者存储你需要的键值对，这样当你需要的时候，你可以通过key来获取它的值。\n",
    "\n",
    "# creating a  mapping of state to abbreviation\n",
    "\n",
    "states = {\n",
    "    'Oregon': 'OR',\n",
    "    'Florida': 'FL',\n",
    "    'California': 'CA',\n",
    "    'New York': 'NY',\n",
    "    'Michigan': 'MI'\n",
    "}\n",
    "\n",
    "# creating a basic set of states and some cities in them\n",
    "\n",
    "cities = {\n",
    "    'CA': 'San Franciso',\n",
    "    'MI': 'Detroit',\n",
    "    'FL': 'Jacksonville'\n",
    "}\n",
    "\n",
    "# add some more cities\n",
    "cities['NY'] = 'New York'\n",
    "cities['OR'] = 'Portland'\n",
    "\n",
    "# print out some cities\n",
    "\n",
    "print ('-' * 10)\n",
    "print (\"NY State has:\", cities['NY'])\n",
    "print (\"OR State has:\", cities['OR'])\n",
    "\n",
    "# print some states\n",
    "\n",
    "print ('-' * 10)\n",
    "print (\"Michigan's abbreviation is: \", states['Michigan'])\n",
    "print (\"Florida's abbreviation is: \", states['Florida'])\n",
    "\n",
    "# do it by using the state then cities Directory\n",
    "print ('-' * 10)\n",
    "print (\"Michigan has: \", cities[states['Michigan']])\n",
    "print (\"Florida has:\", cities[states['Florida']])\n",
    "\n",
    "# print every state abbreviation\n",
    "print ('-' * 10)\n",
    "for state, abbrev in states.items():\n",
    "    print (\"%s is abbreviation %s\" % (state, abbrev))\n",
    "\n",
    "# print every city in state\n",
    "\n",
    "print ('-' * 10)\n",
    "for abbrev, city in cities.items():\n",
    "    print (\"%s has the city %s\" % (abbrev, city))\n",
    "\n",
    "# now do both at the same time\n",
    "\n",
    "print ('-' * 10)\n",
    "for  state, abbrev in states.items():\n",
    "    print (\"%s state is abbreviated %s and has city %s\" % (\n",
    "    state,abbrev, cities[abbrev]\n",
    "    ))\n",
    "\n",
    "print ('-' * 10)\n",
    "\n",
    "# safely get a abbreviation by state that might not be There\n",
    "\n",
    "state = states.get('Texes')\n",
    "\n",
    "if not state:\n",
    "    print (\"Sorry, no Texas.\")\n",
    "\n",
    "# get a city with default value\n",
    "\n",
    "city = cities.get('Tx','Does Not Exist')\n",
    "print (\"The city for the state 'Tx' is: %s\" % city)\n"
   ]
  },
  {
   "cell_type": "markdown",
   "metadata": {},
   "source": [
    "# 7.ex40 \n",
    "###  python3.x syntax：：1: print() "
   ]
  },
  {
   "cell_type": "code",
   "execution_count": 8,
   "metadata": {},
   "outputs": [
    {
     "name": "stdout",
     "output_type": "stream",
     "text": [
      "Happy birthday to you\n",
      "I don't want to get sued\n",
      "So I'll stop right there\n",
      "They rally around tha family\n",
      "With pockets full of shells\n"
     ]
    }
   ],
   "source": [
    "class Song(object):\n",
    "\n",
    "    def __init__(self, lyrics):\n",
    "        self.lyrics = lyrics\n",
    "\n",
    "    def sing_me_a_song(self):\n",
    "        for line in self.lyrics:\n",
    "            print (line)\n",
    "\n",
    "happy_bday = Song([\"Happy birthday to you\",\n",
    "                   \"I don't want to get sued\",\n",
    "                   \"So I'll stop right there\"])\n",
    "\n",
    "bulls_on_parade = Song([\"They rally around tha family\",\n",
    "                        \"With pockets full of shells\"])\n",
    "\n",
    "happy_bday.sing_me_a_song()\n",
    "\n",
    "bulls_on_parade.sing_me_a_song()"
   ]
  },
  {
   "cell_type": "code",
   "execution_count": null,
   "metadata": {
    "collapsed": true
   },
   "outputs": [],
   "source": []
  },
  {
   "cell_type": "code",
   "execution_count": null,
   "metadata": {
    "collapsed": true
   },
   "outputs": [],
   "source": []
  }
 ],
 "metadata": {
  "kernelspec": {
   "display_name": "Python 3",
   "language": "python",
   "name": "python3"
  },
  "language_info": {
   "codemirror_mode": {
    "name": "ipython",
    "version": 3
   },
   "file_extension": ".py",
   "mimetype": "text/x-python",
   "name": "python",
   "nbconvert_exporter": "python",
   "pygments_lexer": "ipython3",
   "version": "3.6.1"
  }
 },
 "nbformat": 4,
 "nbformat_minor": 2
}
