{
 "cells": [
  {
   "cell_type": "markdown",
   "metadata": {},
   "source": [
    "# Time machine：Teach myself python basics in 6 months ago"
   ]
  },
  {
   "cell_type": "markdown",
   "metadata": {},
   "source": [
    "在开始之前，我想说一句——你能学好编程。\n",
    "\n",
    "编程，并不是一上来就是深奥、难解的高等数学和复杂如迷宫的逻辑推理，还有数以万行的天书一般的代码。\n",
    "\n",
    "编程，也是可以优雅而简洁的。比如 python。\n",
    "\n",
    "开智部落：“人生苦短，python是岸”"
   ]
  },
  {
   "cell_type": "markdown",
   "metadata": {},
   "source": [
    "## 下面，按照惯例，先敲下第一行代码"
   ]
  },
  {
   "cell_type": "code",
   "execution_count": 39,
   "metadata": {},
   "outputs": [
    {
     "name": "stdout",
     "output_type": "stream",
     "text": [
      "Hello,world!\n"
     ]
    }
   ],
   "source": [
    "# 下面，按照惯例，先敲下第一行代码\n",
    "\n",
    "print(\"Hello,world!\")"
   ]
  },
  {
   "cell_type": "markdown",
   "metadata": {},
   "source": [
    "你看，这一句代码，输入print，再加上括号，括号里的\"xxx\"就是要显示或者说打印出来的字符串了。\n",
    "\n",
    "然后，计算机就如实地把“Hello world”打印出来了。简单吧？\n",
    "\n",
    "如果要打印很长的一大段的文字呢？再看代码"
   ]
  },
  {
   "cell_type": "code",
   "execution_count": 8,
   "metadata": {},
   "outputs": [
    {
     "name": "stdout",
     "output_type": "stream",
     "text": [
      "The Zen of Python, by Tim Peters\n",
      "\n",
      "Beautiful is better than ugly. \n",
      "Explicit is better than implicit. \n",
      "Simple is better than complex. \n",
      "Complex is better than complicated. \n",
      "Flat is better than nested. \n",
      "Sparse is better than dense. \n",
      "Readability counts. \n",
      "Special cases aren't special enough to break the rules. \n",
      "Although practicality beats purity. \n",
      "Errors should never pass silently. \n",
      "Unless explicitly silenced. \n",
      "In the face of ambiguity, refuse the temptation to guess. \n",
      "There should be one-- and preferably only one --obvious way to do it. \n",
      "Although that way may not be obvious at first unless you're Dutch. \n",
      "Now is better than never. \n",
      "Although never is often better than right now. \n",
      "If the implementation is hard to explain, it's a bad idea. \n",
      "If the implementation is easy to explain, it may be a good idea. \n",
      "Namespaces are one honking great idea -- let's do more of those!\n"
     ]
    }
   ],
   "source": [
    "print(\"\"\"The Zen of Python, by Tim Peters\n",
    "\n",
    "Beautiful is better than ugly. \n",
    "Explicit is better than implicit. \n",
    "Simple is better than complex. \n",
    "Complex is better than complicated. \n",
    "Flat is better than nested. \n",
    "Sparse is better than dense. \n",
    "Readability counts. \n",
    "Special cases aren't special enough to break the rules. \n",
    "Although practicality beats purity. \n",
    "Errors should never pass silently. \n",
    "Unless explicitly silenced. \n",
    "In the face of ambiguity, refuse the temptation to guess. \n",
    "There should be one-- and preferably only one --obvious way to do it. \n",
    "Although that way may not be obvious at first unless you're Dutch. \n",
    "Now is better than never. \n",
    "Although never is often better than right now. \n",
    "If the implementation is hard to explain, it's a bad idea. \n",
    "If the implementation is easy to explain, it may be a good idea. \n",
    "Namespaces are one honking great idea -- let's do more of those!\"\"\")"
   ]
  },
  {
   "cell_type": "markdown",
   "metadata": {},
   "source": [
    "这首诗挺美的。\n",
    "\n",
    "代码也可以优雅。记住，每一行代码最好不超过80个字符，密密麻麻的字母堆积在一块，就不太好读了。\n",
    "\n",
    "这时候，可以用\"\"\"str\"\"\"\n",
    "\n",
    "问题来了，你可能会问，这么一大串句子，如果要打印多次，每次都贴这么长，不麻烦吗？\n",
    "\n",
    "于是，变量来了。我们借助变量，来打印这首诗，三遍。\n"
   ]
  },
  {
   "cell_type": "code",
   "execution_count": 11,
   "metadata": {},
   "outputs": [
    {
     "name": "stdout",
     "output_type": "stream",
     "text": [
      "The Zen of Python, by Tim Peters\n",
      "\n",
      "Beautiful is better than ugly. \n",
      "Explicit is better than implicit. \n",
      "Simple is better than complex. \n",
      "Complex is better than complicated. \n",
      "Flat is better than nested. \n",
      "Sparse is better than dense. \n",
      "Readability counts. \n",
      "Special cases aren't special enough to break the rules. \n",
      "Although practicality beats purity. \n",
      "Errors should never pass silently. \n",
      "Unless explicitly silenced. \n",
      "In the face of ambiguity, refuse the temptation to guess. \n",
      "There should be one-- and preferably only one --obvious way to do it. \n",
      "Although that way may not be obvious at first unless you're Dutch. \n",
      "Now is better than never. \n",
      "Although never is often better than right now. \n",
      "If the implementation is hard to explain, it's a bad idea. \n",
      "If the implementation is easy to explain, it may be a good idea. \n",
      "Namespaces are one honking great idea -- let's do more of those!The Zen of Python, by Tim Peters\n",
      "\n",
      "Beautiful is better than ugly. \n",
      "Explicit is better than implicit. \n",
      "Simple is better than complex. \n",
      "Complex is better than complicated. \n",
      "Flat is better than nested. \n",
      "Sparse is better than dense. \n",
      "Readability counts. \n",
      "Special cases aren't special enough to break the rules. \n",
      "Although practicality beats purity. \n",
      "Errors should never pass silently. \n",
      "Unless explicitly silenced. \n",
      "In the face of ambiguity, refuse the temptation to guess. \n",
      "There should be one-- and preferably only one --obvious way to do it. \n",
      "Although that way may not be obvious at first unless you're Dutch. \n",
      "Now is better than never. \n",
      "Although never is often better than right now. \n",
      "If the implementation is hard to explain, it's a bad idea. \n",
      "If the implementation is easy to explain, it may be a good idea. \n",
      "Namespaces are one honking great idea -- let's do more of those!The Zen of Python, by Tim Peters\n",
      "\n",
      "Beautiful is better than ugly. \n",
      "Explicit is better than implicit. \n",
      "Simple is better than complex. \n",
      "Complex is better than complicated. \n",
      "Flat is better than nested. \n",
      "Sparse is better than dense. \n",
      "Readability counts. \n",
      "Special cases aren't special enough to break the rules. \n",
      "Although practicality beats purity. \n",
      "Errors should never pass silently. \n",
      "Unless explicitly silenced. \n",
      "In the face of ambiguity, refuse the temptation to guess. \n",
      "There should be one-- and preferably only one --obvious way to do it. \n",
      "Although that way may not be obvious at first unless you're Dutch. \n",
      "Now is better than never. \n",
      "Although never is often better than right now. \n",
      "If the implementation is hard to explain, it's a bad idea. \n",
      "If the implementation is easy to explain, it may be a good idea. \n",
      "Namespaces are one honking great idea -- let's do more of those!\n"
     ]
    }
   ],
   "source": [
    "zen = \"\"\"The Zen of Python, by Tim Peters\n",
    "\n",
    "Beautiful is better than ugly. \n",
    "Explicit is better than implicit. \n",
    "Simple is better than complex. \n",
    "Complex is better than complicated. \n",
    "Flat is better than nested. \n",
    "Sparse is better than dense. \n",
    "Readability counts. \n",
    "Special cases aren't special enough to break the rules. \n",
    "Although practicality beats purity. \n",
    "Errors should never pass silently. \n",
    "Unless explicitly silenced. \n",
    "In the face of ambiguity, refuse the temptation to guess. \n",
    "There should be one-- and preferably only one --obvious way to do it. \n",
    "Although that way may not be obvious at first unless you're Dutch. \n",
    "Now is better than never. \n",
    "Although never is often better than right now. \n",
    "If the implementation is hard to explain, it's a bad idea. \n",
    "If the implementation is easy to explain, it may be a good idea. \n",
    "Namespaces are one honking great idea -- let's do more of those!\"\"\"\n",
    "\n",
    "print(zen * 3)"
   ]
  },
  {
   "cell_type": "code",
   "execution_count": null,
   "metadata": {
    "collapsed": true
   },
   "outputs": [],
   "source": [
    "除了打印，程序能做的基础的事情，还有数学计算，就像以前用的计算器一样。\n",
    "python 的基础计算，就写的很明白。看例子"
   ]
  },
  {
   "cell_type": "code",
   "execution_count": 22,
   "metadata": {},
   "outputs": [
    {
     "name": "stdout",
     "output_type": "stream",
     "text": [
      "38925\n",
      "77846\n",
      "-38921\n",
      "5.1383500757906636e-05\n",
      "-1514999915.5857863\n",
      "5.1383500757906636e-05\n",
      "2.0\n"
     ]
    }
   ],
   "source": [
    "import math\n",
    "\n",
    "print(2+38923)\n",
    "print(2*38923)\n",
    "print(2-38923)\n",
    "print(2/38923)\n",
    "print((2-38923)*(2+38923)+ math.sqrt(2)+2**3)\n",
    "print(2.0/38923)\n",
    "print(2.0%38923) "
   ]
  },
  {
   "cell_type": "markdown",
   "metadata": {},
   "source": [
    "似懂非懂？试着上 Google 搜索一下，善用关键词，比如“python calculate”，试着弄懂\"operator”、“float number\"这些。\n",
    "\n",
    "再查查“import”是干什么用的。\n"
   ]
  },
  {
   "cell_type": "markdown",
   "metadata": {},
   "source": [
    "刚才我们学了两种数据类型，一个是字符串（String），一个是数字（Number）。\n",
    "\n",
    "python 基础数据类型，还有一个叫列表（List）。\n",
    "\n",
    "我们建一个足球队首发队员号码的列表吧。\n"
   ]
  },
  {
   "cell_type": "code",
   "execution_count": 37,
   "metadata": {
    "scrolled": true
   },
   "outputs": [
    {
     "name": "stdout",
     "output_type": "stream",
     "text": [
      "11\n",
      "4\n",
      "[2, 4, 7, 8, 9, 10, 11, 15, 23, 27]\n",
      "[1, 2, 4, 7, 8, 9, 10, 11, 15]\n",
      "[1, 2, 4, 7, 8, 9, 10, 11, 15, 23, 27]\n",
      "[1, 2, 4, 7, 8, 9, 10, 11, 15, 23, 27]\n"
     ]
    }
   ],
   "source": [
    "Startup = [1, 2, 4 ,7 , 8, 9 ,10, 11, 15, 23, 27]\n",
    "\n",
    "print(len(Startup)) # 查看列有几个号码，应该是11个\n",
    "\n",
    "print(Startup[2])  # 这一句的意思是，打印列表处于第3位置的元素。为什么不是从左到右第2位置，问谷歌\n",
    "print(Startup[1:]) # 其他的也查一下是什么意思\n",
    "print(Startup[:-2])\n",
    "print(Startup[:])\n",
    "print(Startup)"
   ]
  },
  {
   "cell_type": "markdown",
   "metadata": {},
   "source": [
    "你注意到 “len“ 了吗？他和 print（）一样都是一种函数，print 是执行打印功能的函数。\n",
    "\n",
    "len（Startup），这里就是引用 len 函数来返回变量 Startup列表的中元素的个数。"
   ]
  },
  {
   "cell_type": "markdown",
   "metadata": {},
   "source": [
    "上面都是让 python 处理简单的数据。python 还可以根据一些循环语句和条件语句来执行更多有逻辑的操作。\n",
    "\n",
    "比如，按照某个公式，计算并打印出一些数字，直到这个数字小于某个数。下面是一个 python 官方的示例\n",
    "\n",
    "\"while b < 10\" 就是一个循环语句，意思是如果 b 的值小于10，就一直循环往复执行下面的代码，知道 b 的值不小于10.\n",
    "\n",
    "对了，#号后面的都是注释，不是代码，不起作用的，方便以后自己和别人读代码时知道代码是要干嘛的。"
   ]
  },
  {
   "cell_type": "code",
   "execution_count": 38,
   "metadata": {},
   "outputs": [
    {
     "name": "stdout",
     "output_type": "stream",
     "text": [
      "1\n",
      "1\n",
      "2\n",
      "3\n",
      "5\n",
      "8\n"
     ]
    }
   ],
   "source": [
    "a, b = 0, 1 # a 变量赋值为0，b 变量赋值为1\n",
    "\n",
    "while b < 10: # 当 b 小于10时。while 是一种条件语句，python 按照这个来执行命令的。\n",
    "    \n",
    "    print(b)  # 打印 b 的值\n",
    "\n",
    "    a, b = b, a + b # a 赋值为之前的b，b 赋值为之前的 a 值 + b 值\n"
   ]
  },
  {
   "cell_type": "markdown",
   "metadata": {},
   "source": [
    "还有一个例子，来自《Automate the boring stuff in python》\n"
   ]
  },
  {
   "cell_type": "markdown",
   "metadata": {},
   "source": [
    "➊ passwordFile = open('SecretPasswordFile.txt')\n",
    "\n",
    "➋ secretPassword = passwordFile.read()\n",
    "\n",
    "➌ print('Enter your password.')\n",
    "   typedPassword = input()\n",
    "   \n",
    "➍ if typedPassword == secretPassword:\n",
    "\n",
    "➎    print('Access granted')\n",
    "\n",
    "➏    if typedPassword == '12345':\n",
    "\n",
    "➐       print('That password is one that an idiot puts on their luggage.')\n",
    "\n",
    "  else:\n",
    "➑    print('Access denied')\n"
   ]
  },
  {
   "cell_type": "markdown",
   "metadata": {
    "collapsed": true
   },
   "source": [
    "作者的解释：\n",
    "\n",
    "You might not know anything about programming, but you could probably make a reasonable guess at what the previous code does just by reading it. \n",
    "\n",
    "First, the file SecretPasswordFile.txt is opened ➊, and the secret password in it is read ➋. \n",
    "\n",
    "Then, the user is prompted to input a password (from the keyboard) ➌. These two passwords are compared ➍, and if they’re the same, the program prints Access granted to the screen ➎. \n",
    "\n",
    "Next, the program checks to see whether the password is 12345 ➏ and hints that this choice might not be the best for a password ➐. \n",
    "\n",
    "If the passwords are not the same, the program prints Access denied to the screen ➑.\n",
    "\n"
   ]
  },
  {
   "cell_type": "markdown",
   "metadata": {
    "collapsed": true
   },
   "source": [
    "正如作者所说，对编程小白来说，这段话如果懂点英语，也能勉强看懂个大概。\n",
    "\n",
    "里面的 if / else 就是条件语句。"
   ]
  },
  {
   "cell_type": "markdown",
   "metadata": {},
   "source": [
    "以上，就是简单的介绍编程语言python，说的比较碎。\n",
    "\n",
    "有了大概的认识之后，就去看看入门的系统书，《笨办法学 python》。\n",
    "\n",
    "最重要的是，多敲代码。\n"
   ]
  },
  {
   "cell_type": "code",
   "execution_count": null,
   "metadata": {
    "collapsed": true
   },
   "outputs": [],
   "source": []
  },
  {
   "cell_type": "code",
   "execution_count": null,
   "metadata": {
    "collapsed": true
   },
   "outputs": [],
   "source": []
  }
 ],
 "metadata": {
  "kernelspec": {
   "display_name": "Python 3",
   "language": "python",
   "name": "python3"
  },
  "language_info": {
   "codemirror_mode": {
    "name": "ipython",
    "version": 3
   },
   "file_extension": ".py",
   "mimetype": "text/x-python",
   "name": "python",
   "nbconvert_exporter": "python",
   "pygments_lexer": "ipython3",
   "version": "3.6.1"
  }
 },
 "nbformat": 4,
 "nbformat_minor": 2
}
